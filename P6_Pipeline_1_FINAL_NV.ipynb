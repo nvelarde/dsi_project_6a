{
 "cells": [
  {
   "cell_type": "markdown",
   "metadata": {},
   "source": [
    "# Project 6\n",
    "\n",
    "# Pipeline 1: `Download`"
   ]
  },
  {
   "cell_type": "code",
   "execution_count": 1,
   "metadata": {
    "collapsed": false
   },
   "outputs": [
    {
     "name": "stdout",
     "output_type": "stream",
     "text": [
      "/Users/nate_velarde/dsi/dsi_workspace/dsi_project_6\r\n"
     ]
    }
   ],
   "source": [
    "!pwd"
   ]
  },
  {
   "cell_type": "code",
   "execution_count": 2,
   "metadata": {
    "collapsed": true
   },
   "outputs": [],
   "source": [
    "# importing modules\n",
    "import pandas as pd\n",
    "import lib.database_module as db\n",
    "import lib.encoding_module as enc\n",
    "import lib.wiki_module as wiki"
   ]
  },
  {
   "cell_type": "code",
   "execution_count": 3,
   "metadata": {
    "collapsed": false
   },
   "outputs": [
    {
     "name": "stdout",
     "output_type": "stream",
     "text": [
      "Connected to server joshuacook.me.\n"
     ]
    }
   ],
   "source": [
    "conn, cur = db.connect_to_postgres()"
   ]
  },
  {
   "cell_type": "markdown",
   "metadata": {},
   "source": [
    "## Acquire: Get categories to query from a yaml file"
   ]
  },
  {
   "cell_type": "code",
   "execution_count": 4,
   "metadata": {
    "collapsed": true
   },
   "outputs": [],
   "source": [
    "import yaml"
   ]
  },
  {
   "cell_type": "code",
   "execution_count": 5,
   "metadata": {
    "collapsed": false
   },
   "outputs": [],
   "source": [
    "with open('data/categories.yml') as yaml_file:\n",
    "    categories = yaml.load(yaml_file)"
   ]
  },
  {
   "cell_type": "code",
   "execution_count": 6,
   "metadata": {
    "collapsed": false
   },
   "outputs": [
    {
     "data": {
      "text/plain": [
       "{'categories': ['Association football trophies and awards']}"
      ]
     },
     "execution_count": 6,
     "metadata": {},
     "output_type": "execute_result"
    }
   ],
   "source": [
    "categories"
   ]
  },
  {
   "cell_type": "markdown",
   "metadata": {},
   "source": [
    "## Acquire: Query Wikipedia by category for pages"
   ]
  },
  {
   "cell_type": "code",
   "execution_count": 7,
   "metadata": {
    "collapsed": false
   },
   "outputs": [],
   "source": [
    "responses = []\n",
    "\n",
    "for cat in categories['categories']:\n",
    "    response = wiki.query_category(cat)\n",
    "    responses.append(response)"
   ]
  },
  {
   "cell_type": "code",
   "execution_count": 8,
   "metadata": {
    "collapsed": false
   },
   "outputs": [
    {
     "data": {
      "text/plain": [
       "['27573876']"
      ]
     },
     "execution_count": 8,
     "metadata": {},
     "output_type": "execute_result"
    }
   ],
   "source": [
    "cat_ids = [response['categoryid'] for response in responses]\n",
    "cat_ids"
   ]
  },
  {
   "cell_type": "code",
   "execution_count": 9,
   "metadata": {
    "collapsed": false
   },
   "outputs": [
    {
     "data": {
      "text/plain": [
       "[('Association football trophies and awards', '27573876')]"
      ]
     },
     "execution_count": 9,
     "metadata": {},
     "output_type": "execute_result"
    }
   ],
   "source": [
    "# need to write to database -- zipped categories and cat_ids\n",
    "\n",
    "zipped = zip(categories['categories'], cat_ids)\n",
    "zipped"
   ]
  },
  {
   "cell_type": "markdown",
   "metadata": {},
   "source": [
    "## Acquire: Write category info to database"
   ]
  },
  {
   "cell_type": "code",
   "execution_count": 10,
   "metadata": {
    "collapsed": false
   },
   "outputs": [
    {
     "name": "stdout",
     "output_type": "stream",
     "text": [
      "('Association football trophies and awards', '27573876')\n",
      "Connected to server joshuacook.me.\n"
     ]
    }
   ],
   "source": [
    "for cat in zip(categories['categories'], cat_ids):\n",
    "    print (cat)\n",
    "    db.create_or_update_category_in_database(cat[1], cat[0])"
   ]
  },
  {
   "cell_type": "code",
   "execution_count": 11,
   "metadata": {
    "collapsed": false
   },
   "outputs": [
    {
     "data": {
      "text/html": [
       "<div>\n",
       "<table border=\"1\" class=\"dataframe\">\n",
       "  <thead>\n",
       "    <tr style=\"text-align: right;\">\n",
       "      <th></th>\n",
       "      <th>pageid</th>\n",
       "      <th>title</th>\n",
       "    </tr>\n",
       "  </thead>\n",
       "  <tbody>\n",
       "    <tr>\n",
       "      <th>0</th>\n",
       "      <td>5167857</td>\n",
       "      <td>Footballer of the Year of Argentina</td>\n",
       "    </tr>\n",
       "    <tr>\n",
       "      <th>1</th>\n",
       "      <td>13132344</td>\n",
       "      <td>Austrian Footballer of the Year</td>\n",
       "    </tr>\n",
       "    <tr>\n",
       "      <th>2</th>\n",
       "      <td>21388412</td>\n",
       "      <td>Azerbaijani Footballer of the Year</td>\n",
       "    </tr>\n",
       "    <tr>\n",
       "      <th>3</th>\n",
       "      <td>398110</td>\n",
       "      <td>Ballon d'Or</td>\n",
       "    </tr>\n",
       "    <tr>\n",
       "      <th>4</th>\n",
       "      <td>41498124</td>\n",
       "      <td>Balon de Oro (Mexico)</td>\n",
       "    </tr>\n",
       "    <tr>\n",
       "      <th>5</th>\n",
       "      <td>48724374</td>\n",
       "      <td>Best Footballer in Asia</td>\n",
       "    </tr>\n",
       "    <tr>\n",
       "      <th>6</th>\n",
       "      <td>10540985</td>\n",
       "      <td>Best Male Soccer Player ESPY Award</td>\n",
       "    </tr>\n",
       "    <tr>\n",
       "      <th>7</th>\n",
       "      <td>10541158</td>\n",
       "      <td>Best Soccer Player ESPY Award</td>\n",
       "    </tr>\n",
       "    <tr>\n",
       "      <th>8</th>\n",
       "      <td>12086359</td>\n",
       "      <td>Brian Clough Trophy</td>\n",
       "    </tr>\n",
       "    <tr>\n",
       "      <th>9</th>\n",
       "      <td>8613807</td>\n",
       "      <td>Bulgarian Footballer of the Year</td>\n",
       "    </tr>\n",
       "    <tr>\n",
       "      <th>10</th>\n",
       "      <td>14361922</td>\n",
       "      <td>CAF Awards</td>\n",
       "    </tr>\n",
       "    <tr>\n",
       "      <th>11</th>\n",
       "      <td>24463998</td>\n",
       "      <td>CAF Clubs of the 20th Century</td>\n",
       "    </tr>\n",
       "    <tr>\n",
       "      <th>12</th>\n",
       "      <td>36022606</td>\n",
       "      <td>Caribbean Footballer of the Year</td>\n",
       "    </tr>\n",
       "    <tr>\n",
       "      <th>13</th>\n",
       "      <td>15261184</td>\n",
       "      <td>Chilean Footballer of the Year</td>\n",
       "    </tr>\n",
       "    <tr>\n",
       "      <th>14</th>\n",
       "      <td>41201053</td>\n",
       "      <td>CONCACAF Awards</td>\n",
       "    </tr>\n",
       "    <tr>\n",
       "      <th>15</th>\n",
       "      <td>27141150</td>\n",
       "      <td>Copa Libertadores (trophy)</td>\n",
       "    </tr>\n",
       "    <tr>\n",
       "      <th>16</th>\n",
       "      <td>28564020</td>\n",
       "      <td>Copa Sudamericana (trophy)</td>\n",
       "    </tr>\n",
       "    <tr>\n",
       "      <th>17</th>\n",
       "      <td>27354657</td>\n",
       "      <td>Czech Footballer of the Year</td>\n",
       "    </tr>\n",
       "    <tr>\n",
       "      <th>18</th>\n",
       "      <td>5772743</td>\n",
       "      <td>Czechoslovak Footballer of the Year</td>\n",
       "    </tr>\n",
       "    <tr>\n",
       "      <th>19</th>\n",
       "      <td>22255796</td>\n",
       "      <td>Pallone d'Argento</td>\n",
       "    </tr>\n",
       "    <tr>\n",
       "      <th>20</th>\n",
       "      <td>4349290</td>\n",
       "      <td>Danish Football Player of the Year</td>\n",
       "    </tr>\n",
       "    <tr>\n",
       "      <th>21</th>\n",
       "      <td>10930297</td>\n",
       "      <td>Det Gyldne Bur</td>\n",
       "    </tr>\n",
       "    <tr>\n",
       "      <th>22</th>\n",
       "      <td>13128047</td>\n",
       "      <td>Dutch Footballer of the Year</td>\n",
       "    </tr>\n",
       "    <tr>\n",
       "      <th>23</th>\n",
       "      <td>8490081</td>\n",
       "      <td>DZFoot d'Or</td>\n",
       "    </tr>\n",
       "    <tr>\n",
       "      <th>24</th>\n",
       "      <td>50322415</td>\n",
       "      <td>Enzo Bearzot Award</td>\n",
       "    </tr>\n",
       "    <tr>\n",
       "      <th>25</th>\n",
       "      <td>52401067</td>\n",
       "      <td>Esiliiga B Player of the Year</td>\n",
       "    </tr>\n",
       "    <tr>\n",
       "      <th>26</th>\n",
       "      <td>52401100</td>\n",
       "      <td>Esiliiga Player of the Year</td>\n",
       "    </tr>\n",
       "    <tr>\n",
       "      <th>27</th>\n",
       "      <td>52401727</td>\n",
       "      <td>Estonian Female Footballer of the Year</td>\n",
       "    </tr>\n",
       "    <tr>\n",
       "      <th>28</th>\n",
       "      <td>52401687</td>\n",
       "      <td>Estonian Female Young Footballer of the Year</td>\n",
       "    </tr>\n",
       "    <tr>\n",
       "      <th>29</th>\n",
       "      <td>9729324</td>\n",
       "      <td>Estonian Footballer of the Year</td>\n",
       "    </tr>\n",
       "    <tr>\n",
       "      <th>...</th>\n",
       "      <td>...</td>\n",
       "      <td>...</td>\n",
       "    </tr>\n",
       "    <tr>\n",
       "      <th>79</th>\n",
       "      <td>3714550</td>\n",
       "      <td>Paraguayan Footballer of the Year</td>\n",
       "    </tr>\n",
       "    <tr>\n",
       "      <th>80</th>\n",
       "      <td>8383656</td>\n",
       "      <td>Peel Cup</td>\n",
       "    </tr>\n",
       "    <tr>\n",
       "      <th>81</th>\n",
       "      <td>48865363</td>\n",
       "      <td>PFAM Player of the Month</td>\n",
       "    </tr>\n",
       "    <tr>\n",
       "      <th>82</th>\n",
       "      <td>52469429</td>\n",
       "      <td>PFAM Player of the Month (Malaysia Premier Lea...</td>\n",
       "    </tr>\n",
       "    <tr>\n",
       "      <th>83</th>\n",
       "      <td>14641991</td>\n",
       "      <td>Pilka nozna magazine plebiscite</td>\n",
       "    </tr>\n",
       "    <tr>\n",
       "      <th>84</th>\n",
       "      <td>51179925</td>\n",
       "      <td>Premio internazionale Giacinto Facchetti</td>\n",
       "    </tr>\n",
       "    <tr>\n",
       "      <th>85</th>\n",
       "      <td>51179458</td>\n",
       "      <td>Premio Nazionale Carriera Esemplare \"Gaetano S...</td>\n",
       "    </tr>\n",
       "    <tr>\n",
       "      <th>86</th>\n",
       "      <td>30605664</td>\n",
       "      <td>PSL Awards</td>\n",
       "    </tr>\n",
       "    <tr>\n",
       "      <th>87</th>\n",
       "      <td>21579944</td>\n",
       "      <td>PSL Club Rookie of the Year</td>\n",
       "    </tr>\n",
       "    <tr>\n",
       "      <th>88</th>\n",
       "      <td>21608841</td>\n",
       "      <td>PSL Coach of the Season</td>\n",
       "    </tr>\n",
       "    <tr>\n",
       "      <th>89</th>\n",
       "      <td>32512047</td>\n",
       "      <td>PSL Footballer of the Year</td>\n",
       "    </tr>\n",
       "    <tr>\n",
       "      <th>90</th>\n",
       "      <td>32512103</td>\n",
       "      <td>PSL Goalkeeper of the Season</td>\n",
       "    </tr>\n",
       "    <tr>\n",
       "      <th>91</th>\n",
       "      <td>21595530</td>\n",
       "      <td>PSL Player of the Season</td>\n",
       "    </tr>\n",
       "    <tr>\n",
       "      <th>92</th>\n",
       "      <td>21608281</td>\n",
       "      <td>PSL Players' Player of the Season</td>\n",
       "    </tr>\n",
       "    <tr>\n",
       "      <th>93</th>\n",
       "      <td>21582242</td>\n",
       "      <td>PSL Referee of the Season</td>\n",
       "    </tr>\n",
       "    <tr>\n",
       "      <th>94</th>\n",
       "      <td>12798120</td>\n",
       "      <td>Rinus Michels Award</td>\n",
       "    </tr>\n",
       "    <tr>\n",
       "      <th>95</th>\n",
       "      <td>23573392</td>\n",
       "      <td>Footballer of the Year in Russia (Futbol)</td>\n",
       "    </tr>\n",
       "    <tr>\n",
       "      <th>96</th>\n",
       "      <td>6716136</td>\n",
       "      <td>Footballer of the Year in Russia</td>\n",
       "    </tr>\n",
       "    <tr>\n",
       "      <th>97</th>\n",
       "      <td>20917659</td>\n",
       "      <td>Samba Gold</td>\n",
       "    </tr>\n",
       "    <tr>\n",
       "      <th>98</th>\n",
       "      <td>32588557</td>\n",
       "      <td>Serbian Footballer of the Year</td>\n",
       "    </tr>\n",
       "    <tr>\n",
       "      <th>99</th>\n",
       "      <td>10235294</td>\n",
       "      <td>Slovak Footballer of the Year</td>\n",
       "    </tr>\n",
       "    <tr>\n",
       "      <th>100</th>\n",
       "      <td>40466086</td>\n",
       "      <td>Slovenian Footballer of the Year</td>\n",
       "    </tr>\n",
       "    <tr>\n",
       "      <th>101</th>\n",
       "      <td>15947774</td>\n",
       "      <td>Sportske Novosti award</td>\n",
       "    </tr>\n",
       "    <tr>\n",
       "      <th>102</th>\n",
       "      <td>48819909</td>\n",
       "      <td>Surinamese Footballer of the Year</td>\n",
       "    </tr>\n",
       "    <tr>\n",
       "      <th>103</th>\n",
       "      <td>24593981</td>\n",
       "      <td>Swiss Footballer of the Year</td>\n",
       "    </tr>\n",
       "    <tr>\n",
       "      <th>104</th>\n",
       "      <td>22932933</td>\n",
       "      <td>Trophees UNFP du football</td>\n",
       "    </tr>\n",
       "    <tr>\n",
       "      <th>105</th>\n",
       "      <td>30083499</td>\n",
       "      <td>Ubaldo Fillol Award</td>\n",
       "    </tr>\n",
       "    <tr>\n",
       "      <th>106</th>\n",
       "      <td>50098081</td>\n",
       "      <td>Welsh Footballer of the Year</td>\n",
       "    </tr>\n",
       "    <tr>\n",
       "      <th>107</th>\n",
       "      <td>8874819</td>\n",
       "      <td>World Team of the 20th Century</td>\n",
       "    </tr>\n",
       "    <tr>\n",
       "      <th>108</th>\n",
       "      <td>33574094</td>\n",
       "      <td>Soccer Star of the Year</td>\n",
       "    </tr>\n",
       "  </tbody>\n",
       "</table>\n",
       "<p>109 rows × 2 columns</p>\n",
       "</div>"
      ],
      "text/plain": [
       "       pageid                                              title\n",
       "0     5167857                Footballer of the Year of Argentina\n",
       "1    13132344                    Austrian Footballer of the Year\n",
       "2    21388412                 Azerbaijani Footballer of the Year\n",
       "3      398110                                        Ballon d'Or\n",
       "4    41498124                              Balon de Oro (Mexico)\n",
       "5    48724374                            Best Footballer in Asia\n",
       "6    10540985                 Best Male Soccer Player ESPY Award\n",
       "7    10541158                      Best Soccer Player ESPY Award\n",
       "8    12086359                                Brian Clough Trophy\n",
       "9     8613807                   Bulgarian Footballer of the Year\n",
       "10   14361922                                         CAF Awards\n",
       "11   24463998                      CAF Clubs of the 20th Century\n",
       "12   36022606                   Caribbean Footballer of the Year\n",
       "13   15261184                     Chilean Footballer of the Year\n",
       "14   41201053                                    CONCACAF Awards\n",
       "15   27141150                         Copa Libertadores (trophy)\n",
       "16   28564020                         Copa Sudamericana (trophy)\n",
       "17   27354657                       Czech Footballer of the Year\n",
       "18    5772743                Czechoslovak Footballer of the Year\n",
       "19   22255796                                  Pallone d'Argento\n",
       "20    4349290                 Danish Football Player of the Year\n",
       "21   10930297                                     Det Gyldne Bur\n",
       "22   13128047                       Dutch Footballer of the Year\n",
       "23    8490081                                        DZFoot d'Or\n",
       "24   50322415                                 Enzo Bearzot Award\n",
       "25   52401067                      Esiliiga B Player of the Year\n",
       "26   52401100                        Esiliiga Player of the Year\n",
       "27   52401727             Estonian Female Footballer of the Year\n",
       "28   52401687       Estonian Female Young Footballer of the Year\n",
       "29    9729324                    Estonian Footballer of the Year\n",
       "..        ...                                                ...\n",
       "79    3714550                  Paraguayan Footballer of the Year\n",
       "80    8383656                                           Peel Cup\n",
       "81   48865363                           PFAM Player of the Month\n",
       "82   52469429  PFAM Player of the Month (Malaysia Premier Lea...\n",
       "83   14641991                    Pilka nozna magazine plebiscite\n",
       "84   51179925           Premio internazionale Giacinto Facchetti\n",
       "85   51179458  Premio Nazionale Carriera Esemplare \"Gaetano S...\n",
       "86   30605664                                         PSL Awards\n",
       "87   21579944                        PSL Club Rookie of the Year\n",
       "88   21608841                            PSL Coach of the Season\n",
       "89   32512047                         PSL Footballer of the Year\n",
       "90   32512103                       PSL Goalkeeper of the Season\n",
       "91   21595530                           PSL Player of the Season\n",
       "92   21608281                  PSL Players' Player of the Season\n",
       "93   21582242                          PSL Referee of the Season\n",
       "94   12798120                                Rinus Michels Award\n",
       "95   23573392          Footballer of the Year in Russia (Futbol)\n",
       "96    6716136                   Footballer of the Year in Russia\n",
       "97   20917659                                         Samba Gold\n",
       "98   32588557                     Serbian Footballer of the Year\n",
       "99   10235294                      Slovak Footballer of the Year\n",
       "100  40466086                   Slovenian Footballer of the Year\n",
       "101  15947774                             Sportske Novosti award\n",
       "102  48819909                  Surinamese Footballer of the Year\n",
       "103  24593981                       Swiss Footballer of the Year\n",
       "104  22932933                          Trophees UNFP du football\n",
       "105  30083499                                Ubaldo Fillol Award\n",
       "106  50098081                       Welsh Footballer of the Year\n",
       "107   8874819                     World Team of the 20th Century\n",
       "108  33574094                            Soccer Star of the Year\n",
       "\n",
       "[109 rows x 2 columns]"
      ]
     },
     "execution_count": 11,
     "metadata": {},
     "output_type": "execute_result"
    }
   ],
   "source": [
    "pd.DataFrame(responses[0]['pages'])"
   ]
  },
  {
   "cell_type": "markdown",
   "metadata": {},
   "source": [
    "## Acquire: Query Wikipedia by page id for content"
   ]
  },
  {
   "cell_type": "markdown",
   "metadata": {},
   "source": [
    "Going to work through an example of getting one page and then generalizing to get category pages into the database"
   ]
  },
  {
   "cell_type": "code",
   "execution_count": 12,
   "metadata": {
    "collapsed": false
   },
   "outputs": [
    {
     "data": {
      "text/plain": [
       "u'The title Austrian Footballer of the Year (APA-Fu\\xdfballerwahl) has been awarded in Austria since 1984. The coaches of the Bundesliga clubs elect the player of the year. The election is organized by APA, the leading Austrian Press Agency. Eligible for selection are all players in the Austrian league and all Austrian players playing abroad. Austrian Footballer of the Year See also Austrian Sportspersonality of the year References RSSSF'"
      ]
     },
     "execution_count": 12,
     "metadata": {},
     "output_type": "execute_result"
    }
   ],
   "source": [
    "# getting page ID from Pandas table above -- 2nd entry\n",
    "\n",
    "page_response = wiki.query_page(\"13132344\")\n",
    "pg_13132344_txt = page_response['text']\n",
    "pg_13132344_txt"
   ]
  },
  {
   "cell_type": "code",
   "execution_count": 13,
   "metadata": {
    "collapsed": false
   },
   "outputs": [
    {
     "data": {
      "text/plain": [
       "['pageid', 'summary', 'text', 'html']"
      ]
     },
     "execution_count": 13,
     "metadata": {},
     "output_type": "execute_result"
    }
   ],
   "source": [
    "page_response.keys()"
   ]
  },
  {
   "cell_type": "code",
   "execution_count": 14,
   "metadata": {
    "collapsed": false
   },
   "outputs": [
    {
     "name": "stdout",
     "output_type": "stream",
     "text": [
      "Connected to server joshuacook.me.\n"
     ]
    },
    {
     "data": {
      "text/plain": [
       "'OK'"
      ]
     },
     "execution_count": 14,
     "metadata": {},
     "output_type": "execute_result"
    }
   ],
   "source": [
    "db.create_or_update_page_in_database(13132344,\n",
    "                                     27573876, \n",
    "                                     'Austrian Footballer of the Year',\n",
    "                                     page_response['text'])"
   ]
  },
  {
   "cell_type": "code",
   "execution_count": 15,
   "metadata": {
    "collapsed": false
   },
   "outputs": [
    {
     "data": {
      "text/plain": [
       "{'categoryid': '27573876',\n",
       " 'pages': [{'pageid': 5167857, 'title': 'Footballer of the Year of Argentina'},\n",
       "  {'pageid': 13132344, 'title': 'Austrian Footballer of the Year'},\n",
       "  {'pageid': 21388412, 'title': 'Azerbaijani Footballer of the Year'},\n",
       "  {'pageid': 398110, 'title': \"Ballon d'Or\"},\n",
       "  {'pageid': 41498124, 'title': 'Balon de Oro (Mexico)'},\n",
       "  {'pageid': 48724374, 'title': 'Best Footballer in Asia'},\n",
       "  {'pageid': 10540985, 'title': 'Best Male Soccer Player ESPY Award'},\n",
       "  {'pageid': 10541158, 'title': 'Best Soccer Player ESPY Award'},\n",
       "  {'pageid': 12086359, 'title': 'Brian Clough Trophy'},\n",
       "  {'pageid': 8613807, 'title': 'Bulgarian Footballer of the Year'},\n",
       "  {'pageid': 14361922, 'title': 'CAF Awards'},\n",
       "  {'pageid': 24463998, 'title': 'CAF Clubs of the 20th Century'},\n",
       "  {'pageid': 36022606, 'title': 'Caribbean Footballer of the Year'},\n",
       "  {'pageid': 15261184, 'title': 'Chilean Footballer of the Year'},\n",
       "  {'pageid': 41201053, 'title': 'CONCACAF Awards'},\n",
       "  {'pageid': 27141150, 'title': 'Copa Libertadores (trophy)'},\n",
       "  {'pageid': 28564020, 'title': 'Copa Sudamericana (trophy)'},\n",
       "  {'pageid': 27354657, 'title': 'Czech Footballer of the Year'},\n",
       "  {'pageid': 5772743, 'title': 'Czechoslovak Footballer of the Year'},\n",
       "  {'pageid': 22255796, 'title': \"Pallone d'Argento\"},\n",
       "  {'pageid': 4349290, 'title': 'Danish Football Player of the Year'},\n",
       "  {'pageid': 10930297, 'title': 'Det Gyldne Bur'},\n",
       "  {'pageid': 13128047, 'title': 'Dutch Footballer of the Year'},\n",
       "  {'pageid': 8490081, 'title': \"DZFoot d'Or\"},\n",
       "  {'pageid': 50322415, 'title': 'Enzo Bearzot Award'},\n",
       "  {'pageid': 52401067, 'title': 'Esiliiga B Player of the Year'},\n",
       "  {'pageid': 52401100, 'title': 'Esiliiga Player of the Year'},\n",
       "  {'pageid': 52401727, 'title': 'Estonian Female Footballer of the Year'},\n",
       "  {'pageid': 52401687,\n",
       "   'title': 'Estonian Female Young Footballer of the Year'},\n",
       "  {'pageid': 9729324, 'title': 'Estonian Footballer of the Year'},\n",
       "  {'pageid': 26674327, 'title': 'Estonian Silverball'},\n",
       "  {'pageid': 49976178, 'title': 'Estonian Young Footballer of the Year'},\n",
       "  {'pageid': 40420231, 'title': 'Evence Coppee Trophy'},\n",
       "  {'pageid': 18532081, 'title': 'FA Cup Trophy'},\n",
       "  {'pageid': 37023556, 'title': 'FA Ronnie Radford Award'},\n",
       "  {'pageid': 50523433, 'title': 'Facebook Football Awards'},\n",
       "  {'pageid': 35424101, 'title': 'FAM Awards'},\n",
       "  {'pageid': 13194746, 'title': 'FAM Football Awards'},\n",
       "  {'pageid': 41495686, 'title': \"FIFA Women's World Cup awards\"},\n",
       "  {'pageid': 39679054, 'title': 'Finnish Football Manager of the Year'},\n",
       "  {'pageid': 13325961, 'title': 'Finnish Footballer of the Year'},\n",
       "  {'pageid': 25784770,\n",
       "   'title': 'Footballer of the Year in Baltic and Commonwealth of Independent States (Sport-Express)'},\n",
       "  {'pageid': 43099601, 'title': 'GCC Golden Boot'},\n",
       "  {'pageid': 16271291, 'title': 'Georgian Footballer of the Year'},\n",
       "  {'pageid': 38039788, 'title': 'Globe Soccer Awards'},\n",
       "  {'pageid': 12876089, 'title': 'Golden Ball (Czech Republic)'},\n",
       "  {'pageid': 6573759, 'title': 'Golden Foot'},\n",
       "  {'pageid': 10235434, 'title': 'Greek football PSAP awards'},\n",
       "  {'pageid': 22252551, 'title': \"Guerin d'Oro\"},\n",
       "  {'pageid': 33634228, 'title': 'Gustaf VI Adolfs Pokal'},\n",
       "  {'pageid': 35425398, 'title': 'Haveeru Sports Awards (football)'},\n",
       "  {'pageid': 20591470, 'title': 'Heart of Hajduk Award'},\n",
       "  {'pageid': 11335136, 'title': 'Hong Kong Top Footballer Awards'},\n",
       "  {'pageid': 49302539, 'title': 'Icelandic Footballer of the Year'},\n",
       "  {'pageid': 36217266, 'title': \"IFFHS World's Best Club Coach\"},\n",
       "  {'pageid': 38094609, 'title': \"IFFHS World's Best Goalkeeper\"},\n",
       "  {'pageid': 39508609, 'title': 'Ilta-Sanomat Player of the Year Award'},\n",
       "  {'pageid': 18689236, 'title': 'Iran football award winners'},\n",
       "  {'pageid': 22247461, 'title': 'Footballer of the Year - Israel'},\n",
       "  {'pageid': 15189653, 'title': 'Kazakhstani Footballer of the Year'},\n",
       "  {'pageid': 3126617, 'title': 'Kniksen Award'},\n",
       "  {'pageid': 37731169, 'title': 'KPL Awards'},\n",
       "  {'pageid': 8262489, 'title': 'Latvian Footballer of the Year'},\n",
       "  {'pageid': 30284945, 'title': 'Lennart Johanssons Pokal'},\n",
       "  {'pageid': 20493501, 'title': 'Liechtensteiner Footballer of the Year'},\n",
       "  {'pageid': 8181732, 'title': 'Lithuanian Footballer of the Year'},\n",
       "  {'pageid': 13422773, 'title': 'Luxembourgish Footballer of the Year'},\n",
       "  {'pageid': 10235532, 'title': 'Macedonian Footballer of the Year'},\n",
       "  {'pageid': 48802632, 'title': 'Maurice Burlaz Trophy'},\n",
       "  {'pageid': 49976246, 'title': 'Meistriliiga Player of the Year'},\n",
       "  {'pageid': 5686612, 'title': 'MLS rivalry cups'},\n",
       "  {'pageid': 16654048, 'title': 'Moldovan Footballer of the Year'},\n",
       "  {'pageid': 52401333, 'title': 'Naiste Meistriliiga Player of the Year'},\n",
       "  {'pageid': 15362131, 'title': 'National Amateur Cup'},\n",
       "  {'pageid': 49751777, 'title': 'Nigeria Pitch Awards'},\n",
       "  {'pageid': 34216232, 'title': 'Night of Swiss Football'},\n",
       "  {'pageid': 6501736, 'title': 'Norwegian Football Association Gold Watch'},\n",
       "  {'pageid': 6498811, 'title': 'NTF football awards'},\n",
       "  {'pageid': 48974460, 'title': 'Pallone Azzurro'},\n",
       "  {'pageid': 3714550, 'title': 'Paraguayan Footballer of the Year'},\n",
       "  {'pageid': 8383656, 'title': 'Peel Cup'},\n",
       "  {'pageid': 48865363, 'title': 'PFAM Player of the Month'},\n",
       "  {'pageid': 52469429,\n",
       "   'title': 'PFAM Player of the Month (Malaysia Premier League)'},\n",
       "  {'pageid': 14641991, 'title': 'Pilka nozna magazine plebiscite'},\n",
       "  {'pageid': 51179925, 'title': 'Premio internazionale Giacinto Facchetti'},\n",
       "  {'pageid': 51179458,\n",
       "   'title': 'Premio Nazionale Carriera Esemplare \"Gaetano Scirea\"'},\n",
       "  {'pageid': 30605664, 'title': 'PSL Awards'},\n",
       "  {'pageid': 21579944, 'title': 'PSL Club Rookie of the Year'},\n",
       "  {'pageid': 21608841, 'title': 'PSL Coach of the Season'},\n",
       "  {'pageid': 32512047, 'title': 'PSL Footballer of the Year'},\n",
       "  {'pageid': 32512103, 'title': 'PSL Goalkeeper of the Season'},\n",
       "  {'pageid': 21595530, 'title': 'PSL Player of the Season'},\n",
       "  {'pageid': 21608281, 'title': \"PSL Players' Player of the Season\"},\n",
       "  {'pageid': 21582242, 'title': 'PSL Referee of the Season'},\n",
       "  {'pageid': 12798120, 'title': 'Rinus Michels Award'},\n",
       "  {'pageid': 23573392, 'title': 'Footballer of the Year in Russia (Futbol)'},\n",
       "  {'pageid': 6716136, 'title': 'Footballer of the Year in Russia'},\n",
       "  {'pageid': 20917659, 'title': 'Samba Gold'},\n",
       "  {'pageid': 32588557, 'title': 'Serbian Footballer of the Year'},\n",
       "  {'pageid': 10235294, 'title': 'Slovak Footballer of the Year'},\n",
       "  {'pageid': 40466086, 'title': 'Slovenian Footballer of the Year'},\n",
       "  {'pageid': 15947774, 'title': 'Sportske Novosti award'},\n",
       "  {'pageid': 48819909, 'title': 'Surinamese Footballer of the Year'},\n",
       "  {'pageid': 24593981, 'title': 'Swiss Footballer of the Year'},\n",
       "  {'pageid': 22932933, 'title': 'Trophees UNFP du football'},\n",
       "  {'pageid': 30083499, 'title': 'Ubaldo Fillol Award'},\n",
       "  {'pageid': 50098081, 'title': 'Welsh Footballer of the Year'},\n",
       "  {'pageid': 8874819, 'title': 'World Team of the 20th Century'},\n",
       "  {'pageid': 33574094, 'title': 'Soccer Star of the Year'}]}"
      ]
     },
     "execution_count": 15,
     "metadata": {},
     "output_type": "execute_result"
    }
   ],
   "source": [
    "response"
   ]
  },
  {
   "cell_type": "markdown",
   "metadata": {},
   "source": [
    "## Acquire: Write page content to database"
   ]
  },
  {
   "cell_type": "code",
   "execution_count": 16,
   "metadata": {
    "collapsed": false
   },
   "outputs": [
    {
     "data": {
      "text/plain": [
       "['categoryid', 'pages']"
      ]
     },
     "execution_count": 16,
     "metadata": {},
     "output_type": "execute_result"
    }
   ],
   "source": [
    "response.keys()"
   ]
  },
  {
   "cell_type": "code",
   "execution_count": 17,
   "metadata": {
    "collapsed": false
   },
   "outputs": [
    {
     "data": {
      "text/plain": [
       "{'pageid': 5167857, 'title': 'Footballer of the Year of Argentina'}"
      ]
     },
     "execution_count": 17,
     "metadata": {},
     "output_type": "execute_result"
    }
   ],
   "source": [
    "response['pages'][0]"
   ]
  },
  {
   "cell_type": "code",
   "execution_count": 18,
   "metadata": {
    "collapsed": false
   },
   "outputs": [
    {
     "data": {
      "text/plain": [
       "[5167857,\n",
       " 13132344,\n",
       " 21388412,\n",
       " 398110,\n",
       " 41498124,\n",
       " 48724374,\n",
       " 10540985,\n",
       " 10541158,\n",
       " 12086359,\n",
       " 8613807,\n",
       " 14361922,\n",
       " 24463998,\n",
       " 36022606,\n",
       " 15261184,\n",
       " 41201053,\n",
       " 27141150,\n",
       " 28564020,\n",
       " 27354657,\n",
       " 5772743,\n",
       " 22255796,\n",
       " 4349290,\n",
       " 10930297,\n",
       " 13128047,\n",
       " 8490081,\n",
       " 50322415,\n",
       " 52401067,\n",
       " 52401100,\n",
       " 52401727,\n",
       " 52401687,\n",
       " 9729324,\n",
       " 26674327,\n",
       " 49976178,\n",
       " 40420231,\n",
       " 18532081,\n",
       " 37023556,\n",
       " 50523433,\n",
       " 35424101,\n",
       " 13194746,\n",
       " 41495686,\n",
       " 39679054,\n",
       " 13325961,\n",
       " 25784770,\n",
       " 43099601,\n",
       " 16271291,\n",
       " 38039788,\n",
       " 12876089,\n",
       " 6573759,\n",
       " 10235434,\n",
       " 22252551,\n",
       " 33634228,\n",
       " 35425398,\n",
       " 20591470,\n",
       " 11335136,\n",
       " 49302539,\n",
       " 36217266,\n",
       " 38094609,\n",
       " 39508609,\n",
       " 18689236,\n",
       " 22247461,\n",
       " 15189653,\n",
       " 3126617,\n",
       " 37731169,\n",
       " 8262489,\n",
       " 30284945,\n",
       " 20493501,\n",
       " 8181732,\n",
       " 13422773,\n",
       " 10235532,\n",
       " 48802632,\n",
       " 49976246,\n",
       " 5686612,\n",
       " 16654048,\n",
       " 52401333,\n",
       " 15362131,\n",
       " 49751777,\n",
       " 34216232,\n",
       " 6501736,\n",
       " 6498811,\n",
       " 48974460,\n",
       " 3714550,\n",
       " 8383656,\n",
       " 48865363,\n",
       " 52469429,\n",
       " 14641991,\n",
       " 51179925,\n",
       " 51179458,\n",
       " 30605664,\n",
       " 21579944,\n",
       " 21608841,\n",
       " 32512047,\n",
       " 32512103,\n",
       " 21595530,\n",
       " 21608281,\n",
       " 21582242,\n",
       " 12798120,\n",
       " 23573392,\n",
       " 6716136,\n",
       " 20917659,\n",
       " 32588557,\n",
       " 10235294,\n",
       " 40466086,\n",
       " 15947774,\n",
       " 48819909,\n",
       " 24593981,\n",
       " 22932933,\n",
       " 30083499,\n",
       " 50098081,\n",
       " 8874819,\n",
       " 33574094]"
      ]
     },
     "execution_count": 18,
     "metadata": {},
     "output_type": "execute_result"
    }
   ],
   "source": [
    "# Getting list of pageids and titles from my selected Football Association category\n",
    "\n",
    "pageid_list = []\n",
    "title_list = []\n",
    "counter = 0\n",
    "for page in response['pages']:\n",
    "    pageid_list.append(response['pages'][counter]['pageid'])\n",
    "    title_list.append(response['pages'][counter]['title'])\n",
    "    counter += 1\n",
    "    \n",
    "pageid_list"
   ]
  },
  {
   "cell_type": "code",
   "execution_count": 19,
   "metadata": {
    "collapsed": false
   },
   "outputs": [
    {
     "data": {
      "text/plain": [
       "['Footballer of the Year of Argentina',\n",
       " 'Austrian Footballer of the Year',\n",
       " 'Azerbaijani Footballer of the Year',\n",
       " \"Ballon d'Or\",\n",
       " 'Balon de Oro (Mexico)',\n",
       " 'Best Footballer in Asia',\n",
       " 'Best Male Soccer Player ESPY Award',\n",
       " 'Best Soccer Player ESPY Award',\n",
       " 'Brian Clough Trophy',\n",
       " 'Bulgarian Footballer of the Year',\n",
       " 'CAF Awards',\n",
       " 'CAF Clubs of the 20th Century',\n",
       " 'Caribbean Footballer of the Year',\n",
       " 'Chilean Footballer of the Year',\n",
       " 'CONCACAF Awards',\n",
       " 'Copa Libertadores (trophy)',\n",
       " 'Copa Sudamericana (trophy)',\n",
       " 'Czech Footballer of the Year',\n",
       " 'Czechoslovak Footballer of the Year',\n",
       " \"Pallone d'Argento\",\n",
       " 'Danish Football Player of the Year',\n",
       " 'Det Gyldne Bur',\n",
       " 'Dutch Footballer of the Year',\n",
       " \"DZFoot d'Or\",\n",
       " 'Enzo Bearzot Award',\n",
       " 'Esiliiga B Player of the Year',\n",
       " 'Esiliiga Player of the Year',\n",
       " 'Estonian Female Footballer of the Year',\n",
       " 'Estonian Female Young Footballer of the Year',\n",
       " 'Estonian Footballer of the Year',\n",
       " 'Estonian Silverball',\n",
       " 'Estonian Young Footballer of the Year',\n",
       " 'Evence Coppee Trophy',\n",
       " 'FA Cup Trophy',\n",
       " 'FA Ronnie Radford Award',\n",
       " 'Facebook Football Awards',\n",
       " 'FAM Awards',\n",
       " 'FAM Football Awards',\n",
       " \"FIFA Women's World Cup awards\",\n",
       " 'Finnish Football Manager of the Year',\n",
       " 'Finnish Footballer of the Year',\n",
       " 'Footballer of the Year in Baltic and Commonwealth of Independent States (Sport-Express)',\n",
       " 'GCC Golden Boot',\n",
       " 'Georgian Footballer of the Year',\n",
       " 'Globe Soccer Awards',\n",
       " 'Golden Ball (Czech Republic)',\n",
       " 'Golden Foot',\n",
       " 'Greek football PSAP awards',\n",
       " \"Guerin d'Oro\",\n",
       " 'Gustaf VI Adolfs Pokal',\n",
       " 'Haveeru Sports Awards (football)',\n",
       " 'Heart of Hajduk Award',\n",
       " 'Hong Kong Top Footballer Awards',\n",
       " 'Icelandic Footballer of the Year',\n",
       " \"IFFHS World's Best Club Coach\",\n",
       " \"IFFHS World's Best Goalkeeper\",\n",
       " 'Ilta-Sanomat Player of the Year Award',\n",
       " 'Iran football award winners',\n",
       " 'Footballer of the Year - Israel',\n",
       " 'Kazakhstani Footballer of the Year',\n",
       " 'Kniksen Award',\n",
       " 'KPL Awards',\n",
       " 'Latvian Footballer of the Year',\n",
       " 'Lennart Johanssons Pokal',\n",
       " 'Liechtensteiner Footballer of the Year',\n",
       " 'Lithuanian Footballer of the Year',\n",
       " 'Luxembourgish Footballer of the Year',\n",
       " 'Macedonian Footballer of the Year',\n",
       " 'Maurice Burlaz Trophy',\n",
       " 'Meistriliiga Player of the Year',\n",
       " 'MLS rivalry cups',\n",
       " 'Moldovan Footballer of the Year',\n",
       " 'Naiste Meistriliiga Player of the Year',\n",
       " 'National Amateur Cup',\n",
       " 'Nigeria Pitch Awards',\n",
       " 'Night of Swiss Football',\n",
       " 'Norwegian Football Association Gold Watch',\n",
       " 'NTF football awards',\n",
       " 'Pallone Azzurro',\n",
       " 'Paraguayan Footballer of the Year',\n",
       " 'Peel Cup',\n",
       " 'PFAM Player of the Month',\n",
       " 'PFAM Player of the Month (Malaysia Premier League)',\n",
       " 'Pilka nozna magazine plebiscite',\n",
       " 'Premio internazionale Giacinto Facchetti',\n",
       " 'Premio Nazionale Carriera Esemplare \"Gaetano Scirea\"',\n",
       " 'PSL Awards',\n",
       " 'PSL Club Rookie of the Year',\n",
       " 'PSL Coach of the Season',\n",
       " 'PSL Footballer of the Year',\n",
       " 'PSL Goalkeeper of the Season',\n",
       " 'PSL Player of the Season',\n",
       " \"PSL Players' Player of the Season\",\n",
       " 'PSL Referee of the Season',\n",
       " 'Rinus Michels Award',\n",
       " 'Footballer of the Year in Russia (Futbol)',\n",
       " 'Footballer of the Year in Russia',\n",
       " 'Samba Gold',\n",
       " 'Serbian Footballer of the Year',\n",
       " 'Slovak Footballer of the Year',\n",
       " 'Slovenian Footballer of the Year',\n",
       " 'Sportske Novosti award',\n",
       " 'Surinamese Footballer of the Year',\n",
       " 'Swiss Footballer of the Year',\n",
       " 'Trophees UNFP du football',\n",
       " 'Ubaldo Fillol Award',\n",
       " 'Welsh Footballer of the Year',\n",
       " 'World Team of the 20th Century',\n",
       " 'Soccer Star of the Year']"
      ]
     },
     "execution_count": 19,
     "metadata": {},
     "output_type": "execute_result"
    }
   ],
   "source": [
    "title_list"
   ]
  },
  {
   "cell_type": "code",
   "execution_count": 20,
   "metadata": {
    "collapsed": false
   },
   "outputs": [
    {
     "data": {
      "text/plain": [
       "[(5167857, 'Footballer of the Year of Argentina'),\n",
       " (13132344, 'Austrian Footballer of the Year'),\n",
       " (21388412, 'Azerbaijani Footballer of the Year'),\n",
       " (398110, \"Ballon d'Or\"),\n",
       " (41498124, 'Balon de Oro (Mexico)'),\n",
       " (48724374, 'Best Footballer in Asia'),\n",
       " (10540985, 'Best Male Soccer Player ESPY Award'),\n",
       " (10541158, 'Best Soccer Player ESPY Award'),\n",
       " (12086359, 'Brian Clough Trophy'),\n",
       " (8613807, 'Bulgarian Footballer of the Year'),\n",
       " (14361922, 'CAF Awards'),\n",
       " (24463998, 'CAF Clubs of the 20th Century'),\n",
       " (36022606, 'Caribbean Footballer of the Year'),\n",
       " (15261184, 'Chilean Footballer of the Year'),\n",
       " (41201053, 'CONCACAF Awards'),\n",
       " (27141150, 'Copa Libertadores (trophy)'),\n",
       " (28564020, 'Copa Sudamericana (trophy)'),\n",
       " (27354657, 'Czech Footballer of the Year'),\n",
       " (5772743, 'Czechoslovak Footballer of the Year'),\n",
       " (22255796, \"Pallone d'Argento\"),\n",
       " (4349290, 'Danish Football Player of the Year'),\n",
       " (10930297, 'Det Gyldne Bur'),\n",
       " (13128047, 'Dutch Footballer of the Year'),\n",
       " (8490081, \"DZFoot d'Or\"),\n",
       " (50322415, 'Enzo Bearzot Award'),\n",
       " (52401067, 'Esiliiga B Player of the Year'),\n",
       " (52401100, 'Esiliiga Player of the Year'),\n",
       " (52401727, 'Estonian Female Footballer of the Year'),\n",
       " (52401687, 'Estonian Female Young Footballer of the Year'),\n",
       " (9729324, 'Estonian Footballer of the Year'),\n",
       " (26674327, 'Estonian Silverball'),\n",
       " (49976178, 'Estonian Young Footballer of the Year'),\n",
       " (40420231, 'Evence Coppee Trophy'),\n",
       " (18532081, 'FA Cup Trophy'),\n",
       " (37023556, 'FA Ronnie Radford Award'),\n",
       " (50523433, 'Facebook Football Awards'),\n",
       " (35424101, 'FAM Awards'),\n",
       " (13194746, 'FAM Football Awards'),\n",
       " (41495686, \"FIFA Women's World Cup awards\"),\n",
       " (39679054, 'Finnish Football Manager of the Year'),\n",
       " (13325961, 'Finnish Footballer of the Year'),\n",
       " (25784770,\n",
       "  'Footballer of the Year in Baltic and Commonwealth of Independent States (Sport-Express)'),\n",
       " (43099601, 'GCC Golden Boot'),\n",
       " (16271291, 'Georgian Footballer of the Year'),\n",
       " (38039788, 'Globe Soccer Awards'),\n",
       " (12876089, 'Golden Ball (Czech Republic)'),\n",
       " (6573759, 'Golden Foot'),\n",
       " (10235434, 'Greek football PSAP awards'),\n",
       " (22252551, \"Guerin d'Oro\"),\n",
       " (33634228, 'Gustaf VI Adolfs Pokal'),\n",
       " (35425398, 'Haveeru Sports Awards (football)'),\n",
       " (20591470, 'Heart of Hajduk Award'),\n",
       " (11335136, 'Hong Kong Top Footballer Awards'),\n",
       " (49302539, 'Icelandic Footballer of the Year'),\n",
       " (36217266, \"IFFHS World's Best Club Coach\"),\n",
       " (38094609, \"IFFHS World's Best Goalkeeper\"),\n",
       " (39508609, 'Ilta-Sanomat Player of the Year Award'),\n",
       " (18689236, 'Iran football award winners'),\n",
       " (22247461, 'Footballer of the Year - Israel'),\n",
       " (15189653, 'Kazakhstani Footballer of the Year'),\n",
       " (3126617, 'Kniksen Award'),\n",
       " (37731169, 'KPL Awards'),\n",
       " (8262489, 'Latvian Footballer of the Year'),\n",
       " (30284945, 'Lennart Johanssons Pokal'),\n",
       " (20493501, 'Liechtensteiner Footballer of the Year'),\n",
       " (8181732, 'Lithuanian Footballer of the Year'),\n",
       " (13422773, 'Luxembourgish Footballer of the Year'),\n",
       " (10235532, 'Macedonian Footballer of the Year'),\n",
       " (48802632, 'Maurice Burlaz Trophy'),\n",
       " (49976246, 'Meistriliiga Player of the Year'),\n",
       " (5686612, 'MLS rivalry cups'),\n",
       " (16654048, 'Moldovan Footballer of the Year'),\n",
       " (52401333, 'Naiste Meistriliiga Player of the Year'),\n",
       " (15362131, 'National Amateur Cup'),\n",
       " (49751777, 'Nigeria Pitch Awards'),\n",
       " (34216232, 'Night of Swiss Football'),\n",
       " (6501736, 'Norwegian Football Association Gold Watch'),\n",
       " (6498811, 'NTF football awards'),\n",
       " (48974460, 'Pallone Azzurro'),\n",
       " (3714550, 'Paraguayan Footballer of the Year'),\n",
       " (8383656, 'Peel Cup'),\n",
       " (48865363, 'PFAM Player of the Month'),\n",
       " (52469429, 'PFAM Player of the Month (Malaysia Premier League)'),\n",
       " (14641991, 'Pilka nozna magazine plebiscite'),\n",
       " (51179925, 'Premio internazionale Giacinto Facchetti'),\n",
       " (51179458, 'Premio Nazionale Carriera Esemplare \"Gaetano Scirea\"'),\n",
       " (30605664, 'PSL Awards'),\n",
       " (21579944, 'PSL Club Rookie of the Year'),\n",
       " (21608841, 'PSL Coach of the Season'),\n",
       " (32512047, 'PSL Footballer of the Year'),\n",
       " (32512103, 'PSL Goalkeeper of the Season'),\n",
       " (21595530, 'PSL Player of the Season'),\n",
       " (21608281, \"PSL Players' Player of the Season\"),\n",
       " (21582242, 'PSL Referee of the Season'),\n",
       " (12798120, 'Rinus Michels Award'),\n",
       " (23573392, 'Footballer of the Year in Russia (Futbol)'),\n",
       " (6716136, 'Footballer of the Year in Russia'),\n",
       " (20917659, 'Samba Gold'),\n",
       " (32588557, 'Serbian Footballer of the Year'),\n",
       " (10235294, 'Slovak Footballer of the Year'),\n",
       " (40466086, 'Slovenian Footballer of the Year'),\n",
       " (15947774, 'Sportske Novosti award'),\n",
       " (48819909, 'Surinamese Footballer of the Year'),\n",
       " (24593981, 'Swiss Footballer of the Year'),\n",
       " (22932933, 'Trophees UNFP du football'),\n",
       " (30083499, 'Ubaldo Fillol Award'),\n",
       " (50098081, 'Welsh Footballer of the Year'),\n",
       " (8874819, 'World Team of the 20th Century'),\n",
       " (33574094, 'Soccer Star of the Year')]"
      ]
     },
     "execution_count": 20,
     "metadata": {},
     "output_type": "execute_result"
    }
   ],
   "source": [
    "# Zipping pageid_list and title_list together\n",
    "\n",
    "zipped_title_pageid = zip(pageid_list, title_list)\n",
    "zipped_title_pageid"
   ]
  },
  {
   "cell_type": "markdown",
   "metadata": {},
   "source": [
    "## This Code Uploads Pages to Database\n"
   ]
  },
  {
   "cell_type": "code",
   "execution_count": 21,
   "metadata": {
    "collapsed": false
   },
   "outputs": [
    {
     "name": "stdout",
     "output_type": "stream",
     "text": [
      "Connected to server joshuacook.me.\n",
      "Connected to server joshuacook.me.\n",
      "Connected to server joshuacook.me.\n",
      "Connected to server joshuacook.me.\n",
      "Connected to server joshuacook.me.\n",
      "Connected to server joshuacook.me.\n",
      "Connected to server joshuacook.me.\n",
      "Connected to server joshuacook.me.\n",
      "Connected to server joshuacook.me.\n",
      "Connected to server joshuacook.me.\n",
      "Connected to server joshuacook.me.\n",
      "Connected to server joshuacook.me.\n",
      "Connected to server joshuacook.me.\n",
      "Connected to server joshuacook.me.\n",
      "Connected to server joshuacook.me.\n",
      "Connected to server joshuacook.me.\n",
      "Connected to server joshuacook.me.\n",
      "Connected to server joshuacook.me.\n",
      "Connected to server joshuacook.me.\n",
      "Connected to server joshuacook.me.\n",
      "Connected to server joshuacook.me.\n",
      "Connected to server joshuacook.me.\n",
      "Connected to server joshuacook.me.\n",
      "Connected to server joshuacook.me.\n",
      "Connected to server joshuacook.me.\n",
      "Connected to server joshuacook.me.\n",
      "Connected to server joshuacook.me.\n",
      "Connected to server joshuacook.me.\n",
      "Connected to server joshuacook.me.\n",
      "Connected to server joshuacook.me.\n",
      "Connected to server joshuacook.me.\n",
      "Connected to server joshuacook.me.\n",
      "Connected to server joshuacook.me.\n",
      "Connected to server joshuacook.me.\n",
      "Connected to server joshuacook.me.\n",
      "Connected to server joshuacook.me.\n",
      "Connected to server joshuacook.me.\n",
      "Connected to server joshuacook.me.\n",
      "Connected to server joshuacook.me.\n",
      "Connected to server joshuacook.me.\n",
      "Connected to server joshuacook.me.\n",
      "Connected to server joshuacook.me.\n",
      "Connected to server joshuacook.me.\n",
      "Connected to server joshuacook.me.\n",
      "Connected to server joshuacook.me.\n",
      "Connected to server joshuacook.me.\n",
      "Connected to server joshuacook.me.\n",
      "Connected to server joshuacook.me.\n",
      "Connected to server joshuacook.me.\n",
      "Connected to server joshuacook.me.\n",
      "Connected to server joshuacook.me.\n",
      "Connected to server joshuacook.me.\n",
      "Connected to server joshuacook.me.\n",
      "Connected to server joshuacook.me.\n",
      "Connected to server joshuacook.me.\n",
      "Connected to server joshuacook.me.\n",
      "Connected to server joshuacook.me.\n",
      "Connected to server joshuacook.me.\n",
      "Connected to server joshuacook.me.\n",
      "Connected to server joshuacook.me.\n",
      "Connected to server joshuacook.me.\n",
      "Connected to server joshuacook.me.\n",
      "Connected to server joshuacook.me.\n",
      "Connected to server joshuacook.me.\n",
      "Connected to server joshuacook.me.\n",
      "Connected to server joshuacook.me.\n",
      "Connected to server joshuacook.me.\n",
      "Connected to server joshuacook.me.\n",
      "Connected to server joshuacook.me.\n",
      "Connected to server joshuacook.me.\n",
      "Connected to server joshuacook.me.\n",
      "Connected to server joshuacook.me.\n",
      "Connected to server joshuacook.me.\n",
      "Connected to server joshuacook.me.\n",
      "Connected to server joshuacook.me.\n",
      "Connected to server joshuacook.me.\n",
      "Connected to server joshuacook.me.\n",
      "Connected to server joshuacook.me.\n",
      "Connected to server joshuacook.me.\n",
      "Connected to server joshuacook.me.\n",
      "Connected to server joshuacook.me.\n",
      "Connected to server joshuacook.me.\n",
      "Connected to server joshuacook.me.\n",
      "Connected to server joshuacook.me.\n",
      "Connected to server joshuacook.me.\n",
      "Connected to server joshuacook.me.\n",
      "Connected to server joshuacook.me.\n",
      "Connected to server joshuacook.me.\n",
      "Connected to server joshuacook.me.\n",
      "Connected to server joshuacook.me.\n",
      "Connected to server joshuacook.me.\n",
      "Connected to server joshuacook.me.\n",
      "Connected to server joshuacook.me.\n",
      "Connected to server joshuacook.me.\n",
      "Connected to server joshuacook.me.\n",
      "Connected to server joshuacook.me.\n",
      "Connected to server joshuacook.me.\n",
      "Connected to server joshuacook.me.\n",
      "Connected to server joshuacook.me.\n",
      "Connected to server joshuacook.me.\n",
      "Connected to server joshuacook.me.\n",
      "Connected to server joshuacook.me.\n",
      "Connected to server joshuacook.me.\n",
      "Connected to server joshuacook.me.\n",
      "Connected to server joshuacook.me.\n",
      "Connected to server joshuacook.me.\n",
      "Connected to server joshuacook.me.\n",
      "Connected to server joshuacook.me.\n",
      "Connected to server joshuacook.me.\n"
     ]
    }
   ],
   "source": [
    "# this works! -- uploaded!!\n",
    "\n",
    "for page, title in zipped_title_pageid:\n",
    "    page_response = wiki.query_page(str(page))\n",
    "    db.create_or_update_page_in_database(page, int(cat_ids[0]), title, page_response['text'])\n"
   ]
  },
  {
   "cell_type": "markdown",
   "metadata": {
    "collapsed": true
   },
   "source": [
    "## Identify: Provide a detailed analysis of the database schema in your report"
   ]
  },
  {
   "cell_type": "markdown",
   "metadata": {
    "collapsed": true
   },
   "source": [
    "Bonus"
   ]
  }
 ],
 "metadata": {
  "anaconda-cloud": {},
  "kernelspec": {
   "display_name": "Python [conda root]",
   "language": "python",
   "name": "conda-root-py"
  },
  "language_info": {
   "codemirror_mode": {
    "name": "ipython",
    "version": 2
   },
   "file_extension": ".py",
   "mimetype": "text/x-python",
   "name": "python",
   "nbconvert_exporter": "python",
   "pygments_lexer": "ipython2",
   "version": "2.7.12"
  }
 },
 "nbformat": 4,
 "nbformat_minor": 1
}
