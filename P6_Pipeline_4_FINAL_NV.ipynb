{
 "cells": [
  {
   "cell_type": "markdown",
   "metadata": {},
   "source": [
    "# Project 6\n",
    "\n",
    "# Pipeline 4: `Predict`"
   ]
  },
  {
   "cell_type": "code",
   "execution_count": 2,
   "metadata": {
    "collapsed": true
   },
   "outputs": [],
   "source": [
    "# importing modules\n",
    "\n",
    "from os import chdir\n",
    "import pandas as pd\n",
    "import lib.database_module as db\n",
    "import lib.encoding_module as enc\n",
    "from lib.encoding_module import get_searchterm_vector, get_page_vector\n",
    "import lib.wiki_module as wiki"
   ]
  },
  {
   "cell_type": "markdown",
   "metadata": {},
   "source": [
    "## Mine: Query Wikipedia by page id for content"
   ]
  },
  {
   "cell_type": "markdown",
   "metadata": {
    "collapsed": true
   },
   "source": [
    "pageid: 398110  title': \"Ballon d'Or"
   ]
  },
  {
   "cell_type": "markdown",
   "metadata": {},
   "source": [
    "## Parse: Encode page as document vector"
   ]
  },
  {
   "cell_type": "code",
   "execution_count": 3,
   "metadata": {
    "collapsed": true
   },
   "outputs": [],
   "source": [
    "from sklearn.externals import joblib\n",
    "transformer = joblib.load('vectorizer.pkl')"
   ]
  },
  {
   "cell_type": "code",
   "execution_count": 4,
   "metadata": {
    "collapsed": false
   },
   "outputs": [
    {
     "data": {
      "text/plain": [
       "u'The Ballon dOr (French pronunciation: \\u200b[bal\\u0254\\u0303 d\\u0254\\u0281]; \"Golden Ball\"), is an annual association football award presented by France Football. It has been awarded since 1956, although between 2010 and 2015, the award was temporarily merged with the FIFA World Player of the Year, and known as the FIFA Ballon dOr. Conceived by sports writer Gabriel Hanot, the Ballon dOr award honours the male player deemed to have performed the best over the previous year, based on voting by football journalists. Originally, only European players were in contention for the Ballon dOr: in 1995 the award was expanded to include all players at European clubs and in 2007 to all players from around the world. History Stanley Matthews of Blackpool was the inaugural winner of the Ballon dOr. Prior to 1995, the award was often known in English language media as the European Footballer of the Year award. Milans George Weah, the only African recipient, became the first non-European to win the award in the year the rules of eligibility were changed. Ronaldo of Internazionale became the first South American winner two years later. Three players have won the award three times each: Johan Cruyff of Ajax and Barcelona, Michel Platini of Juventus and Marco van Basten of Milan. With seven awards each, Dutch and German players won the most Ballons dOr. Spanish club Barcelona had the most winners. Between 2010 and 2015 inclusive the award was merged with a similar award, the FIFA World Player of the Year award, to create the FIFA Ballon dOr, which was awarded to the worlds best male player, before FIFA and France Football broke the merging agreement. After 2011, UEFA created the UEFA Best Player in Europe Award to maintain the format of the original Ballon dOr. Winners Wins by player One-time winners are only included if they have also finished 2nd or 3rd in another year. Wins by country Wins by club Additional awards A special Ban dOr, under the name Super Ballon dOr, was awarded to Alfredo Di St\\xe9fano in 1989, after he surpassed Johan Cruyff and Michel Platini in France Footballs voting. A decade later, France Football elected Pel\\xe9 the Football Player of the Century after consulting their former Ballon dOr recipients. Among the 34 previous winners, 30 cast their votes; Stanley Matthews, Omar S\\xedvori and George Best abstained, and Lev Yashin had died. Each voter was allotted five votes worth up to five points; however, Di St\\xe9fano only chose a first place, Platini a first and second place, and George Weah two players for fifth place. Pel\\xe9 was named the greatest by 17 voters, receiving almost double the number of points earned by the runner-up, Diego Maradona. To coincide with the 60th anniversary of the Ballon dOr in 2016, France Football published a reevaluation of the awards presented before 1995, when only European players were eligible to win the award. 12 out of the 39 Ballons dOr presented during this time period would have been awarded to South American players; in addition to Pel\\xe9 and Diego Maradona, Garrincha, Mario Kempes, and Rom\\xe1rio were retrospectively recognized as worthy winners. The original recipients, however, remain unchanged. Maradona and Pel\\xe9 received honorary Ballons dOr for their services to football in 1996 and 2013, respectively. See also UEFA Best Player in Europe UEFA Club Footballer of the Year European Golden Shoe World Soccer Player of the Year FIFPro World Player of the Year Castrol Rankings FIFA World Player of the Year FIFA Ballon dOr The Best FIFA Football Awards Notes References External links \"European Footballer of the Year (\"Ballon dOr\")\". Rec.Sport.Soccer Statistics Foundation. 9 October 2008. Retrieved 5 December 2008. \"La liste compl\\xeate des laur\\xe9ats du Ballon dor, de 1956 \\xe0 nos jours\". France Football. Retrieved 24 March 2015.'"
      ]
     },
     "execution_count": 4,
     "metadata": {},
     "output_type": "execute_result"
    }
   ],
   "source": [
    "raw_page = wiki.query_page(str(398110))\n",
    "raw_page['text']"
   ]
  },
  {
   "cell_type": "code",
   "execution_count": 5,
   "metadata": {
    "collapsed": false
   },
   "outputs": [],
   "source": [
    "clean_page = wiki.text_cleaner(raw_page['text'])"
   ]
  },
  {
   "cell_type": "code",
   "execution_count": 6,
   "metadata": {
    "collapsed": false
   },
   "outputs": [
    {
     "data": {
      "text/plain": [
       "array([[ 0.,  0.,  0.,  0.,  0.,  0.,  0.,  0.,  0.,  0.,  0.,  0.,  0.,\n",
       "         0.,  0.,  0.,  0.,  0.,  0.,  0.,  0.,  0.,  0.,  0.,  0.,  0.,\n",
       "         0.,  0.,  0.,  0.,  0.,  0.,  0.,  0.,  0.,  0.,  0.,  0.,  0.,\n",
       "         0.,  0.,  0.,  0.,  0.,  0.,  0.,  0.,  0.,  0.,  0.,  0.,  0.,\n",
       "         0.,  0.,  0.,  0.,  0.,  0.,  0.,  0.,  0.,  0.,  0.,  0.,  0.,\n",
       "         0.,  0.,  0.,  0.,  0.,  0.,  0.,  0.,  0.,  0.,  0.,  0.,  0.,\n",
       "         0.,  0.,  0.,  0.,  0.,  0.,  0.,  0.,  0.,  0.,  0.,  0.,  0.,\n",
       "         0.,  0.,  0.,  0.,  0.,  0.,  0.,  0.,  0.,  0.,  0.,  0.,  0.,\n",
       "         0.,  0.,  0.,  0.,  0.,  0.,  0.,  0.,  0.,  0.,  0.,  0.,  0.,\n",
       "         0.,  0.,  0.,  0.,  0.,  0.,  0.,  0.,  0.,  0.,  0.,  0.,  0.,\n",
       "         0.,  0.,  0.,  0.,  0.,  0.,  0.,  0.,  0.,  0.,  0.,  0.,  0.,\n",
       "         0.,  0.,  0.,  0.,  0.,  0.,  0.,  0.,  0.,  0.,  0.,  0.,  0.,\n",
       "         0.,  0.,  0.,  0.,  0.,  0.,  0.,  0.,  0.,  0.,  0.,  0.,  0.,\n",
       "         0.,  0.,  0.,  0.,  0.,  0.,  0.,  0.,  0.,  0.,  0.,  0.,  0.,\n",
       "         0.,  0.,  0.,  0.,  0.,  0.,  0.,  0.,  0.,  0.,  0.,  0.,  0.,\n",
       "         0.,  0.,  0.,  0.,  0.,  0.,  0.,  0.,  0.,  0.,  0.,  0.,  0.,\n",
       "         0.,  0.,  0.,  0.,  0.,  0.,  0.,  0.,  0.,  0.,  0.,  0.,  0.,\n",
       "         0.,  0.,  0.,  0.,  0.,  0.,  0.,  0.,  0.,  0.,  0.,  0.,  0.,\n",
       "         0.,  0.,  0.,  0.,  0.,  0.,  0.,  0.,  0.,  0.,  0.,  0.,  0.,\n",
       "         0.,  0.,  0.,  0.,  0.,  0.,  0.,  0.,  0.,  0.,  0.,  0.,  0.,\n",
       "         0.,  0.,  0.,  0.,  0.,  0.,  0.,  0.,  0.,  0.,  0.,  0.,  0.,\n",
       "         0.,  0.,  0.,  0.,  0.,  0.,  0.,  0.,  0.,  0.,  0.,  0.,  0.,\n",
       "         0.,  0.,  0.,  0.,  0.,  0.,  0.,  0.,  0.,  0.,  0.,  0.,  0.,\n",
       "         0.,  0.,  0.,  0.,  0.,  0.,  0.,  0.,  0.,  0.,  0.,  0.,  0.,\n",
       "         0.,  0.,  0.,  0.,  0.,  0.,  0.,  0.,  0.,  0.,  0.,  0.,  0.,\n",
       "         0.,  0.,  0.,  0.,  0.,  0.,  0.,  0.,  0.,  0.,  0.,  0.,  0.,\n",
       "         0.,  0.,  0.,  0.,  0.,  0.,  0.,  0.,  0.,  0.,  0.,  0.,  0.,\n",
       "         0.,  0.,  0.,  0.,  0.,  0.,  0.,  0.,  0.,  0.,  0.,  0.,  0.,\n",
       "         0.,  0.,  0.,  0.,  0.,  0.,  0.,  0.,  0.,  0.,  0.,  0.,  0.,\n",
       "         0.,  0.,  0.,  0.,  0.,  0.,  0.,  0.,  0.,  0.,  0.,  0.,  0.,\n",
       "         0.,  0.,  0.,  0.,  0.,  0.,  0.,  0.,  0.,  0.,  0.,  0.,  0.,\n",
       "         0.,  0.,  0.,  0.,  0.,  0.,  0.,  0.,  0.,  0.,  0.,  0.,  0.,\n",
       "         0.,  0.,  0.,  0.,  0.,  0.,  0.,  0.,  0.,  0.,  0.,  0.,  0.,\n",
       "         0.,  0.,  0.,  0.,  0.,  0.,  0.,  0.,  0.,  0.,  0.,  0.,  0.,\n",
       "         0.,  0.,  0.,  0.,  0.,  0.,  0.,  0.,  0.,  0.,  0.,  0.,  0.,\n",
       "         0.,  0.,  0.,  0.,  0.,  0.,  0.,  0.,  0.,  0.,  0.,  0.,  0.,\n",
       "         0.,  0.,  0.,  0.,  0.,  0.,  0.,  0.,  0.,  0.,  0.,  0.,  0.,\n",
       "         0.,  0.,  0.,  0.,  0.,  0.,  0.,  0.,  0.,  0.,  0.,  0.,  0.,\n",
       "         0.,  0.,  0.,  0.,  0.,  0.]])"
      ]
     },
     "execution_count": 6,
     "metadata": {},
     "output_type": "execute_result"
    }
   ],
   "source": [
    "encoded_page = get_page_vector(transformer, clean_page, [398110])\n",
    "encoded_page[398110]"
   ]
  },
  {
   "cell_type": "markdown",
   "metadata": {},
   "source": [
    "## Present: Load previously trained and picked model"
   ]
  },
  {
   "cell_type": "code",
   "execution_count": 7,
   "metadata": {
    "collapsed": true
   },
   "outputs": [],
   "source": [
    "from_pkl_cls = joblib.load(\"tnc_model.pickle\")"
   ]
  },
  {
   "cell_type": "markdown",
   "metadata": {},
   "source": [
    "## Model: Predict category and display category and prediction confidence"
   ]
  },
  {
   "cell_type": "code",
   "execution_count": 15,
   "metadata": {
    "collapsed": false
   },
   "outputs": [
    {
     "data": {
      "text/plain": [
       "array([13])"
      ]
     },
     "execution_count": 15,
     "metadata": {},
     "output_type": "execute_result"
    }
   ],
   "source": [
    "# this returns the predicted category number -- needs to be inverse_transformed to get the category number\n",
    "\n",
    "from_pkl_cls.predict(encoded_page[398110])"
   ]
  },
  {
   "cell_type": "code",
   "execution_count": 16,
   "metadata": {
    "collapsed": true
   },
   "outputs": [],
   "source": [
    "# loading our pickled encoded y's\n",
    "\n",
    "le = joblib.load('encoded_ys.pickle')"
   ]
  },
  {
   "cell_type": "code",
   "execution_count": 17,
   "metadata": {
    "collapsed": false
   },
   "outputs": [
    {
     "data": {
      "text/plain": [
       "2932559"
      ]
     },
     "execution_count": 17,
     "metadata": {},
     "output_type": "execute_result"
    }
   ],
   "source": [
    "# using inverse transform to get the predicted category id from our trained model\n",
    "\n",
    "le.inverse_transform(13)"
   ]
  },
  {
   "cell_type": "code",
   "execution_count": 20,
   "metadata": {
    "collapsed": false
   },
   "outputs": [
    {
     "name": "stdout",
     "output_type": "stream",
     "text": [
      "OK\n",
      "Connected to server joshuacook.me.\n"
     ]
    },
    {
     "data": {
      "text/plain": [
       "[('influenza',)]"
      ]
     },
     "execution_count": 20,
     "metadata": {},
     "output_type": "execute_result"
    }
   ],
   "source": [
    "# using SQL to retrieve the category name from the predicted category id\n",
    "\n",
    "predicted_category = db.execute_sql_statement('''SELECT category_name FROM category WHERE category_id = 2932559;''')\n",
    "predicted_category"
   ]
  },
  {
   "cell_type": "code",
   "execution_count": 10,
   "metadata": {
    "collapsed": false
   },
   "outputs": [
    {
     "data": {
      "text/plain": [
       "array([[  2.15806227e-51,   0.00000000e+00,   3.03877294e-47,\n",
       "          9.09219603e-35,   1.20794442e-08,   2.79338537e-62,\n",
       "          7.90051887e-34,   1.26905861e-63,   7.62615167e-43,\n",
       "          3.20086525e-52,   3.31610003e-59,   1.17176792e-29,\n",
       "          9.99999988e-01,   2.76288010e-53,   2.94725254e-39,\n",
       "          9.92981957e-53,   2.69202569e-35]])"
      ]
     },
     "execution_count": 10,
     "metadata": {},
     "output_type": "execute_result"
    }
   ],
   "source": [
    "from_pkl_cls.predict_proba(encoded_page[398110])"
   ]
  }
 ],
 "metadata": {
  "anaconda-cloud": {},
  "kernelspec": {
   "display_name": "Python [conda root]",
   "language": "python",
   "name": "conda-root-py"
  },
  "language_info": {
   "codemirror_mode": {
    "name": "ipython",
    "version": 2
   },
   "file_extension": ".py",
   "mimetype": "text/x-python",
   "name": "python",
   "nbconvert_exporter": "python",
   "pygments_lexer": "ipython2",
   "version": "2.7.12"
  }
 },
 "nbformat": 4,
 "nbformat_minor": 1
}
